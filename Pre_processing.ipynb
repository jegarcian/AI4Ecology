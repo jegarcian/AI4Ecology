{
  "nbformat": 4,
  "nbformat_minor": 0,
  "metadata": {
    "colab": {
      "name": "Pre-processing.ipynb",
      "provenance": [],
      "collapsed_sections": [],
      "toc_visible": true
    },
    "hide_input": false,
    "kernelspec": {
      "display_name": "Python 3",
      "language": "python",
      "name": "python3"
    },
    "language_info": {
      "codemirror_mode": {
        "name": "ipython",
        "version": 3
      },
      "file_extension": ".py",
      "mimetype": "text/x-python",
      "name": "python",
      "nbconvert_exporter": "python",
      "pygments_lexer": "ipython3",
      "version": "3.8.5"
    },
    "latex_envs": {
      "LaTeX_envs_menu_present": true,
      "autoclose": false,
      "autocomplete": true,
      "bibliofile": "biblio.bib",
      "cite_by": "apalike",
      "current_citInitial": 1,
      "eqLabelWithNumbers": true,
      "eqNumInitial": 1,
      "hotkeys": {
        "equation": "Ctrl-E",
        "itemize": "Ctrl-I"
      },
      "labels_anchors": false,
      "latex_user_defs": false,
      "report_style_numbering": false,
      "user_envs_cfg": false
    },
    "toc": {
      "base_numbering": 1,
      "nav_menu": {},
      "number_sections": true,
      "sideBar": false,
      "skip_h1_title": false,
      "title_cell": "Table of Contents",
      "title_sidebar": "Contents",
      "toc_cell": true,
      "toc_position": {
        "height": "100px",
        "left": "1751px",
        "top": "135.7px",
        "width": "169px"
      },
      "toc_section_display": true,
      "toc_window_display": true
    },
    "varInspector": {
      "cols": {
        "lenName": 16,
        "lenType": 16,
        "lenVar": 40
      },
      "kernels_config": {
        "python": {
          "delete_cmd_postfix": "",
          "delete_cmd_prefix": "del ",
          "library": "var_list.py",
          "varRefreshCmd": "print(var_dic_list())"
        },
        "r": {
          "delete_cmd_postfix": ") ",
          "delete_cmd_prefix": "rm(",
          "library": "var_list.r",
          "varRefreshCmd": "cat(var_dic_list()) "
        }
      },
      "types_to_exclude": [
        "module",
        "function",
        "builtin_function_or_method",
        "instance",
        "_Feature"
      ],
      "window_display": false
    }
  },
  "cells": [
    {
      "cell_type": "markdown",
      "metadata": {
        "id": "wzSHN17mLq_n"
      },
      "source": [
        "#Introduction"
      ]
    },
    {
      "cell_type": "markdown",
      "metadata": {
        "id": "9DKfxuu8LVFf"
      },
      "source": [
        "## Initial steps:\n",
        "\n",
        "1.   Copy this notebook to your google Colab account (*File --> Save a Copy in Drive*)\n",
        "2.   Go to your drive and open the copied file, located in your *Colab Notebooks* folder\n",
        "\n",
        "##Working with Collab Notebooks:\n",
        "\n",
        "1.   Click inside a cell with code and press SHIFT+ENTER (or click \"PLAY\" button) to execute it.\n",
        "2.   Re-executing a cell will reset it (any input will be lost).\n",
        "3.   Execute cells TOP TO BOTTOM.\n",
        "4.  Use TAB for [code autocompletion and function parameters hint](https://colab.research.google.com/notebooks/basic_features_overview.ipynb#scrollTo=d4L9TOP9QSHn)\n",
        "5. Notebooks are saved to your Google Drive (make sure to click on \"COPY TO DRIVE\" when opening a notebook shared with you).\n",
        "6. Mount your Google Drive to have a direct access from a notebook to the files stored in the drive (this includes Team Drives).\n",
        "7. If using Colab's virtual storage only, all the uploaded/stored files will get deleted when a runtime is recycled."
      ]
    },
    {
      "cell_type": "markdown",
      "metadata": {
        "id": "BbGAeuhkMhB1"
      },
      "source": [
        "Mount Google Drive to Save results. This will be needed for each of the notebooks."
      ]
    },
    {
      "cell_type": "code",
      "metadata": {
        "colab": {
          "base_uri": "https://localhost:8080/"
        },
        "id": "mdt2QpVpH4zz",
        "outputId": "0405a914-3760-4f1d-826f-689396fb253f"
      },
      "source": [
        "from google.colab import drive\n",
        "drive.mount('/content/gdrive')"
      ],
      "execution_count": null,
      "outputs": [
        {
          "output_type": "stream",
          "text": [
            "Drive already mounted at /content/gdrive; to attempt to forcibly remount, call drive.mount(\"/content/gdrive\", force_remount=True).\n"
          ],
          "name": "stdout"
        }
      ]
    },
    {
      "cell_type": "markdown",
      "metadata": {
        "id": "JcDbDly5Mkie"
      },
      "source": [
        "Create a directory to save results, otherwise notebook results are lost once the notebook is closed. Directory **AI4Ecology** will be created at the root directory of your drive. It is used by all the notebooks."
      ]
    },
    {
      "cell_type": "code",
      "metadata": {
        "id": "ZXh1nRJsIZqe"
      },
      "source": [
        "google_drive_dir = \"/content/gdrive/My Drive/AI4Ecology/\"\n",
        "!mkdir \"$google_drive_dir\""
      ],
      "execution_count": null,
      "outputs": []
    },
    {
      "cell_type": "markdown",
      "metadata": {
        "id": "ENGUta2glkpg"
      },
      "source": [
        "# Imports"
      ]
    },
    {
      "cell_type": "code",
      "metadata": {
        "ExecuteTime": {
          "end_time": "2021-04-16T10:33:04.287245Z",
          "start_time": "2021-04-16T10:33:02.731057Z"
        },
        "id": "OL9nOjAx-2hD"
      },
      "source": [
        "from time import time\n",
        "\n",
        "import os\n",
        "import glob\n",
        "import shutil\n",
        "\n",
        "import numpy as np\n",
        "import itertools as it\n",
        "import pandas as pd"
      ],
      "execution_count": null,
      "outputs": []
    },
    {
      "cell_type": "markdown",
      "metadata": {
        "id": "IZN2kntFlkpj"
      },
      "source": [
        "# Pre-process data"
      ]
    },
    {
      "cell_type": "markdown",
      "metadata": {
        "id": "5XlQjfwC5Dui"
      },
      "source": [
        "## Notebook Output\n",
        "\n",
        "This notebook saves a file (*parquet*) which contains a dataframe with right format to be used by following notebooks. Pre-processing is dependent of the initial format of the DB containing patches. Here you can see the example for the article DB.\n",
        "\n"
      ]
    },
    {
      "cell_type": "markdown",
      "metadata": {
        "id": "K7rxa0ZwQgM-"
      },
      "source": [
        "# Processing\n",
        "\n",
        "Read data from excel file. Then create a dataframe (X) where each column is a plant species and each row is a patch. Each cell in a row indicates if the patch contains (1) or not (0) a given species. \n",
        "\n",
        "All other variables are removed from the dataframe. Dataframe X will be a table with 1 and 0 for each of the cells. \n",
        "\n",
        "For simplicity only 8 plant species (*n_vars*) are kept in data, more abundant species. Relations between them will be studied. \n",
        "\n",
        "**Important**: Variable *n_vars* is defined in other notebooks so it needs to be consistent between them."
      ]
    },
    {
      "cell_type": "code",
      "metadata": {
        "ExecuteTime": {
          "end_time": "2021-04-16T10:33:06.301939Z",
          "start_time": "2021-04-16T10:33:06.295846Z"
        },
        "id": "2e5rZAYYlkpk"
      },
      "source": [
        "# set the number of plant species or other similar variables to consider\n",
        "n_vars=8\n",
        "# set boolean to include soil type (whether gypsum or not) to be considered as another variable treated as a plant species\n",
        "incl_soil = True\n",
        "# (this could be generalized to location i.e. ravine/not, north_face/not, etc... alongside the present of a plant\n",
        "\n",
        "# Download excel DB\n",
        "!wget -q https://raw.githubusercontent.com/jegarcian/AI4Ecology/main/Data.xlsx -O 'Data.xlsx'\n",
        "\n",
        "# Read excel file\n",
        "df_no_trunc = pd.read_excel('Data.xlsx',sheet_name=2).iloc[:,:6]"
      ],
      "execution_count": null,
      "outputs": []
    },
    {
      "cell_type": "markdown",
      "metadata": {
        "id": "tgOCTXdPCeyh"
      },
      "source": [
        "Example of the DB used for this analysis before any processing"
      ]
    },
    {
      "cell_type": "code",
      "metadata": {
        "colab": {
          "base_uri": "https://localhost:8080/",
          "height": 206
        },
        "id": "-wCOIxNWCqdr",
        "outputId": "7766caea-a6cd-4a74-d26a-287cfe02c269"
      },
      "source": [
        "df_no_trunc.head()"
      ],
      "execution_count": null,
      "outputs": [
        {
          "output_type": "execute_result",
          "data": {
            "text/html": [
              "<div>\n",
              "<style scoped>\n",
              "    .dataframe tbody tr th:only-of-type {\n",
              "        vertical-align: middle;\n",
              "    }\n",
              "\n",
              "    .dataframe tbody tr th {\n",
              "        vertical-align: top;\n",
              "    }\n",
              "\n",
              "    .dataframe thead th {\n",
              "        text-align: right;\n",
              "    }\n",
              "</style>\n",
              "<table border=\"1\" class=\"dataframe\">\n",
              "  <thead>\n",
              "    <tr style=\"text-align: right;\">\n",
              "      <th></th>\n",
              "      <th>Localidad</th>\n",
              "      <th>Suelo</th>\n",
              "      <th>plotnumber</th>\n",
              "      <th>patchID</th>\n",
              "      <th>species</th>\n",
              "      <th>Nind</th>\n",
              "    </tr>\n",
              "  </thead>\n",
              "  <tbody>\n",
              "    <tr>\n",
              "      <th>0</th>\n",
              "      <td>Barranc Fort</td>\n",
              "      <td>Matriz</td>\n",
              "      <td>plot1</td>\n",
              "      <td>P_1</td>\n",
              "      <td>Fumana_thymifolia</td>\n",
              "      <td>2</td>\n",
              "    </tr>\n",
              "    <tr>\n",
              "      <th>1</th>\n",
              "      <td>Barranc Fort</td>\n",
              "      <td>Matriz</td>\n",
              "      <td>plot1</td>\n",
              "      <td>P_1</td>\n",
              "      <td>Sedum_sediforme</td>\n",
              "      <td>1</td>\n",
              "    </tr>\n",
              "    <tr>\n",
              "      <th>2</th>\n",
              "      <td>Barranc Fort</td>\n",
              "      <td>Matriz</td>\n",
              "      <td>plot1</td>\n",
              "      <td>P_2</td>\n",
              "      <td>Cistus_clusii</td>\n",
              "      <td>1</td>\n",
              "    </tr>\n",
              "    <tr>\n",
              "      <th>3</th>\n",
              "      <td>Barranc Fort</td>\n",
              "      <td>Matriz</td>\n",
              "      <td>plot1</td>\n",
              "      <td>P_2</td>\n",
              "      <td>Fumana_thymifolia</td>\n",
              "      <td>1</td>\n",
              "    </tr>\n",
              "    <tr>\n",
              "      <th>4</th>\n",
              "      <td>Barranc Fort</td>\n",
              "      <td>Matriz</td>\n",
              "      <td>plot1</td>\n",
              "      <td>P_2</td>\n",
              "      <td>Helianthemum_violaceum</td>\n",
              "      <td>1</td>\n",
              "    </tr>\n",
              "  </tbody>\n",
              "</table>\n",
              "</div>"
            ],
            "text/plain": [
              "      Localidad   Suelo plotnumber patchID                 species  Nind\n",
              "0  Barranc Fort  Matriz      plot1     P_1       Fumana_thymifolia     2\n",
              "1  Barranc Fort  Matriz      plot1     P_1         Sedum_sediforme     1\n",
              "2  Barranc Fort  Matriz      plot1     P_2           Cistus_clusii     1\n",
              "3  Barranc Fort  Matriz      plot1     P_2       Fumana_thymifolia     1\n",
              "4  Barranc Fort  Matriz      plot1     P_2  Helianthemum_violaceum     1"
            ]
          },
          "metadata": {
            "tags": []
          },
          "execution_count": 5
        }
      ]
    },
    {
      "cell_type": "markdown",
      "metadata": {
        "id": "I2sTv_CQC1ZY"
      },
      "source": [
        "Do the data processing, **this will be dependent on the format of the initial patch DB**."
      ]
    },
    {
      "cell_type": "code",
      "metadata": {
        "ExecuteTime": {
          "end_time": "2021-04-16T10:33:09.762897Z",
          "start_time": "2021-04-16T10:33:07.147628Z"
        },
        "colab": {
          "base_uri": "https://localhost:8080/",
          "height": 424
        },
        "id": "2TzpsR3zlkpk",
        "outputId": "c1d51aa9-8379-47eb-a7cb-f0f73382f1b7"
      },
      "source": [
        "# from the column 'Suelo' define a column indicating wether the soil type is gypsum or not\n",
        "df = df_no_trunc.rename(columns={'Suelo': 'Gypsum'})\n",
        "tmp_condition = df['Gypsum'].isin(['Yeso'])\n",
        "df.loc[tmp_condition, 'Gypsum'] = 1\n",
        "df.loc[~tmp_condition, 'Gypsum'] = 0\n",
        "\n",
        "#pivot 1D record into 2D table\n",
        "df=df.pivot_table(index=['Localidad','plotnumber','patchID','Gypsum'],columns=['species'],values='Nind',fill_value=0)\n",
        "\n",
        "#count whether a species occurs at all in a patch, instead of how many specimens appear per patch\n",
        "df=df.clip(0,1)\n",
        "\n",
        "#sort the columns according to abundance of plant species\n",
        "if incl_soil == False:\n",
        "    offset = 0\n",
        "if incl_soil == True:\n",
        "    offset = 1\n",
        "    \n",
        "df=df.reindex(df.sum(axis='rows').sort_values(ascending=False).index.tolist(),axis='columns').iloc[:,:n_vars-offset]\n",
        "\n",
        "n_original_patches = df.shape[0]\n",
        "\n",
        "#keep only patches with at least two distinct species\n",
        "df=df[df.sum(axis='columns')>1]\n",
        "\n",
        "# if desired,set Gypsum as a column in the same way as plant species are\n",
        "if incl_soil == True:\n",
        "    df=df.reset_index(drop=False)\n",
        "    df=df.set_index(['Localidad','plotnumber','patchID'])\n",
        "    \n",
        "#list variables, i.e. plant species under consideration and soil type if selected\n",
        "vars_range = range(n_vars)\n",
        "var_names = df.columns.tolist()\n",
        "\n",
        "# remove the information of patch ID and location\n",
        "X=df.iloc[:,1-offset:n_vars-offset+1].reset_index(drop=True)\n",
        "X"
      ],
      "execution_count": null,
      "outputs": [
        {
          "output_type": "execute_result",
          "data": {
            "text/html": [
              "<div>\n",
              "<style scoped>\n",
              "    .dataframe tbody tr th:only-of-type {\n",
              "        vertical-align: middle;\n",
              "    }\n",
              "\n",
              "    .dataframe tbody tr th {\n",
              "        vertical-align: top;\n",
              "    }\n",
              "\n",
              "    .dataframe thead th {\n",
              "        text-align: right;\n",
              "    }\n",
              "</style>\n",
              "<table border=\"1\" class=\"dataframe\">\n",
              "  <thead>\n",
              "    <tr style=\"text-align: right;\">\n",
              "      <th>species</th>\n",
              "      <th>Gypsum</th>\n",
              "      <th>Fumana_thymifolia</th>\n",
              "      <th>Stipa_tenacissima</th>\n",
              "      <th>Helianthemum_syriacum</th>\n",
              "      <th>Helianthemum_squamatum</th>\n",
              "      <th>Teucrium_libanitis</th>\n",
              "      <th>Brachypodium_retusum</th>\n",
              "      <th>Fumana_ericoides</th>\n",
              "    </tr>\n",
              "  </thead>\n",
              "  <tbody>\n",
              "    <tr>\n",
              "      <th>0</th>\n",
              "      <td>0</td>\n",
              "      <td>1</td>\n",
              "      <td>1</td>\n",
              "      <td>0</td>\n",
              "      <td>0</td>\n",
              "      <td>0</td>\n",
              "      <td>0</td>\n",
              "      <td>0</td>\n",
              "    </tr>\n",
              "    <tr>\n",
              "      <th>1</th>\n",
              "      <td>0</td>\n",
              "      <td>1</td>\n",
              "      <td>1</td>\n",
              "      <td>0</td>\n",
              "      <td>0</td>\n",
              "      <td>0</td>\n",
              "      <td>0</td>\n",
              "      <td>0</td>\n",
              "    </tr>\n",
              "    <tr>\n",
              "      <th>2</th>\n",
              "      <td>1</td>\n",
              "      <td>0</td>\n",
              "      <td>0</td>\n",
              "      <td>1</td>\n",
              "      <td>1</td>\n",
              "      <td>0</td>\n",
              "      <td>1</td>\n",
              "      <td>0</td>\n",
              "    </tr>\n",
              "    <tr>\n",
              "      <th>3</th>\n",
              "      <td>1</td>\n",
              "      <td>0</td>\n",
              "      <td>0</td>\n",
              "      <td>1</td>\n",
              "      <td>1</td>\n",
              "      <td>0</td>\n",
              "      <td>0</td>\n",
              "      <td>0</td>\n",
              "    </tr>\n",
              "    <tr>\n",
              "      <th>4</th>\n",
              "      <td>1</td>\n",
              "      <td>0</td>\n",
              "      <td>0</td>\n",
              "      <td>1</td>\n",
              "      <td>0</td>\n",
              "      <td>0</td>\n",
              "      <td>1</td>\n",
              "      <td>0</td>\n",
              "    </tr>\n",
              "    <tr>\n",
              "      <th>...</th>\n",
              "      <td>...</td>\n",
              "      <td>...</td>\n",
              "      <td>...</td>\n",
              "      <td>...</td>\n",
              "      <td>...</td>\n",
              "      <td>...</td>\n",
              "      <td>...</td>\n",
              "      <td>...</td>\n",
              "    </tr>\n",
              "    <tr>\n",
              "      <th>2576</th>\n",
              "      <td>0</td>\n",
              "      <td>0</td>\n",
              "      <td>0</td>\n",
              "      <td>1</td>\n",
              "      <td>0</td>\n",
              "      <td>0</td>\n",
              "      <td>0</td>\n",
              "      <td>1</td>\n",
              "    </tr>\n",
              "    <tr>\n",
              "      <th>2577</th>\n",
              "      <td>1</td>\n",
              "      <td>0</td>\n",
              "      <td>0</td>\n",
              "      <td>0</td>\n",
              "      <td>1</td>\n",
              "      <td>1</td>\n",
              "      <td>0</td>\n",
              "      <td>0</td>\n",
              "    </tr>\n",
              "    <tr>\n",
              "      <th>2578</th>\n",
              "      <td>1</td>\n",
              "      <td>0</td>\n",
              "      <td>0</td>\n",
              "      <td>0</td>\n",
              "      <td>1</td>\n",
              "      <td>1</td>\n",
              "      <td>0</td>\n",
              "      <td>1</td>\n",
              "    </tr>\n",
              "    <tr>\n",
              "      <th>2579</th>\n",
              "      <td>1</td>\n",
              "      <td>0</td>\n",
              "      <td>0</td>\n",
              "      <td>0</td>\n",
              "      <td>0</td>\n",
              "      <td>1</td>\n",
              "      <td>0</td>\n",
              "      <td>1</td>\n",
              "    </tr>\n",
              "    <tr>\n",
              "      <th>2580</th>\n",
              "      <td>1</td>\n",
              "      <td>0</td>\n",
              "      <td>0</td>\n",
              "      <td>1</td>\n",
              "      <td>0</td>\n",
              "      <td>1</td>\n",
              "      <td>0</td>\n",
              "      <td>1</td>\n",
              "    </tr>\n",
              "  </tbody>\n",
              "</table>\n",
              "<p>2581 rows × 8 columns</p>\n",
              "</div>"
            ],
            "text/plain": [
              "species  Gypsum  Fumana_thymifolia  ...  Brachypodium_retusum  Fumana_ericoides\n",
              "0             0                  1  ...                     0                 0\n",
              "1             0                  1  ...                     0                 0\n",
              "2             1                  0  ...                     1                 0\n",
              "3             1                  0  ...                     0                 0\n",
              "4             1                  0  ...                     1                 0\n",
              "...         ...                ...  ...                   ...               ...\n",
              "2576          0                  0  ...                     0                 1\n",
              "2577          1                  0  ...                     0                 0\n",
              "2578          1                  0  ...                     0                 1\n",
              "2579          1                  0  ...                     0                 1\n",
              "2580          1                  0  ...                     0                 1\n",
              "\n",
              "[2581 rows x 8 columns]"
            ]
          },
          "metadata": {
            "tags": []
          },
          "execution_count": 21
        }
      ]
    },
    {
      "cell_type": "markdown",
      "metadata": {
        "id": "78isteWhPKlJ"
      },
      "source": [
        "Save dataframe as a *parquet* file."
      ]
    },
    {
      "cell_type": "code",
      "metadata": {
        "id": "JYo6d4aNPJni"
      },
      "source": [
        "dir_name = google_drive_dir+'saved_reals'\n",
        "if not os.path.exists(dir_name):\n",
        "        os.mkdir(dir_name)\n",
        "        \n",
        "file_name =os.path.join(dir_name,'X__n_vars='+str(n_vars)+'__incl_soil='+str(incl_soil)+'.parquet.gzip')\n",
        "X.to_parquet(file_name,compression='gzip')"
      ],
      "execution_count": null,
      "outputs": []
    },
    {
      "cell_type": "markdown",
      "metadata": {
        "id": "NmXuAUvXPlpv"
      },
      "source": [
        "# Summary of Outputs produced"
      ]
    },
    {
      "cell_type": "markdown",
      "metadata": {
        "id": "04GYB4gkPkZk"
      },
      "source": [
        "Output created at this point:\n",
        "\n",
        "    saved_reals : Real data patches (real data)\n",
        " \n",
        "Directory includes *parquet* file including DB in right format for later processing."
      ]
    },
    {
      "cell_type": "code",
      "metadata": {
        "colab": {
          "base_uri": "https://localhost:8080/"
        },
        "id": "n-I7AFj3P879",
        "outputId": "640b1ab9-dd45-4256-cbe7-507b6aad3ca6"
      },
      "source": [
        "!ls -ltr \"$google_drive_dir\""
      ],
      "execution_count": null,
      "outputs": [
        {
          "output_type": "stream",
          "text": [
            "total 4\n",
            "drwx------ 2 root root 4096 May 17 12:42 saved_reals\n"
          ],
          "name": "stdout"
        }
      ]
    }
  ]
}